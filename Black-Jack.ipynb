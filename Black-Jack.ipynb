{
 "cells": [
  {
   "cell_type": "code",
   "execution_count": 5,
   "metadata": {},
   "outputs": [],
   "source": [
    "import random\n",
    "\n",
    "suits = ('Hearts', 'Diamonds', 'Spades', 'Clubs')\n",
    "ranks = ('Two', 'Three', 'Four', 'Five', 'Six', 'Seven', 'Eight', 'Nine', 'Ten', 'Jack', 'Queen', 'King', 'Ace')\n",
    "values = {'Two': 2, 'Three': 3, 'Four':4, 'Five': 5, 'Six': 6, 'Seven': 7, 'Eight': 8, 'Nine':9, 'Ten': 10, 'Jack': 10, 'Queen': 10, 'King': 10, 'Ace': 11} \n",
    "\n",
    "playing = True"
   ]
  },
  {
   "cell_type": "code",
   "execution_count": 6,
   "metadata": {},
   "outputs": [],
   "source": [
    "class Card:\n",
    "    def __init__(self, suit, rank):\n",
    "        self.suit = suit\n",
    "        self.rank = rank\n",
    "        \n",
    "    def __str__(self):\n",
    "        return self.rank + \" of \"+ self.suit"
   ]
  },
  {
   "cell_type": "code",
   "execution_count": 7,
   "metadata": {},
   "outputs": [],
   "source": [
    "class Deck:\n",
    "    \n",
    "    def __init__(self):\n",
    "        self.deck = [] # start with an empty list\n",
    "        for suit in suits:\n",
    "            for rank in ranks:\n",
    "                self.deck.append(Card(suit,rank))\n",
    "                \n",
    "    def __str__(self):\n",
    "        deck_comp = ''\n",
    "        for card in self.deck:\n",
    "            deck_comp += '\\n'+ card.__str__()\n",
    "        return 'The deck has: '+deck_comp\n",
    "    \n",
    "    def shuffle(self):\n",
    "        random.shuffle(self.deck)\n",
    "        \n",
    "    def deal(self):\n",
    "        single_card = self.deck.pop()\n",
    "        return single_card"
   ]
  },
  {
   "cell_type": "code",
   "execution_count": 9,
   "metadata": {},
   "outputs": [
    {
     "name": "stdout",
     "output_type": "stream",
     "text": [
      "The deck has: \n",
      "Three of Diamonds\n",
      "Eight of Spades\n",
      "Nine of Hearts\n",
      "Three of Clubs\n",
      "Four of Diamonds\n",
      "Jack of Diamonds\n",
      "Queen of Clubs\n",
      "Five of Clubs\n",
      "Ace of Clubs\n",
      "Eight of Hearts\n",
      "King of Spades\n",
      "Two of Spades\n",
      "Ten of Clubs\n",
      "Queen of Hearts\n",
      "Two of Clubs\n",
      "Six of Spades\n",
      "Jack of Clubs\n",
      "Seven of Diamonds\n",
      "Jack of Hearts\n",
      "Ten of Hearts\n",
      "Seven of Hearts\n",
      "Nine of Spades\n",
      "Seven of Spades\n",
      "Six of Clubs\n",
      "Three of Hearts\n",
      "Ace of Spades\n",
      "Three of Spades\n",
      "Six of Hearts\n",
      "Five of Diamonds\n",
      "Ten of Spades\n",
      "Eight of Diamonds\n",
      "Four of Clubs\n",
      "Ten of Diamonds\n",
      "Six of Diamonds\n",
      "Eight of Clubs\n",
      "Queen of Spades\n",
      "Ace of Hearts\n",
      "Nine of Diamonds\n",
      "Seven of Clubs\n",
      "Two of Diamonds\n",
      "Nine of Clubs\n",
      "Four of Spades\n",
      "Four of Hearts\n",
      "King of Clubs\n",
      "Five of Spades\n",
      "King of Hearts\n",
      "Ace of Diamonds\n",
      "Jack of Spades\n",
      "King of Diamonds\n",
      "Two of Hearts\n",
      "Five of Hearts\n",
      "Queen of Diamonds\n"
     ]
    }
   ],
   "source": [
    "test_deck = Deck()\n",
    "test_deck.shuffle()\n",
    "print(test_deck)"
   ]
  },
  {
   "cell_type": "code",
   "execution_count": 10,
   "metadata": {},
   "outputs": [],
   "source": [
    "class Hand:\n",
    "    def __init__(self):\n",
    "        self.cards = [] # start with an empty list as we did in the Deck class\n",
    "        self.value = 0 # start with zero value\n",
    "        self.aces = 0 # add an attribute to keep track of aces\n",
    "        \n",
    "    def add_card(self, card):\n",
    "        self.cards.append(card)\n",
    "        self.value += values[card.rank]\n",
    "        \n",
    "    def adjust_for_ace(self):\n",
    "        pass"
   ]
  },
  {
   "cell_type": "code",
   "execution_count": 11,
   "metadata": {},
   "outputs": [
    {
     "data": {
      "text/plain": [
       "15"
      ]
     },
     "execution_count": 11,
     "metadata": {},
     "output_type": "execute_result"
    }
   ],
   "source": [
    "test_deck = Deck()\n",
    "test_deck.shuffle()\n",
    "test_player = Hand()\n",
    "test_player.add_card(test_deck.deal())\n",
    "test_player.add_card(test_deck.deal())\n",
    "test_player.value"
   ]
  },
  {
   "cell_type": "code",
   "execution_count": null,
   "metadata": {},
   "outputs": [],
   "source": []
  }
 ],
 "metadata": {
  "kernelspec": {
   "display_name": "Python 3",
   "language": "python",
   "name": "python3"
  },
  "language_info": {
   "codemirror_mode": {
    "name": "ipython",
    "version": 3
   },
   "file_extension": ".py",
   "mimetype": "text/x-python",
   "name": "python",
   "nbconvert_exporter": "python",
   "pygments_lexer": "ipython3",
   "version": "3.7.1"
  }
 },
 "nbformat": 4,
 "nbformat_minor": 2
}
